{
 "cells": [
  {
   "cell_type": "markdown",
   "metadata": {},
   "source": [
    "# Python tutorial #1"
   ]
  },
  {
   "cell_type": "markdown",
   "metadata": {},
   "source": [
    "본 페이지는 한림대학교 710231(딥러닝이해및응용) 수업에서 학생들의 Python 학습을 위해 만든 페이지입니다. "
   ]
  },
  {
   "cell_type": "markdown",
   "metadata": {},
   "source": [
    "## Hello World !"
   ]
  },
  {
   "cell_type": "code",
   "execution_count": 1,
   "metadata": {},
   "outputs": [
    {
     "name": "stdout",
     "output_type": "stream",
     "text": [
      "Hello World\n",
      "Hello World 2 + 3 = 5\n"
     ]
    }
   ],
   "source": [
    "print('Hello World')\n",
    "\n",
    "print('Hello World {} + {} = {}'.format(2, 3, 2+3))"
   ]
  },
  {
   "cell_type": "markdown",
   "metadata": {},
   "source": [
    "## Basic data types"
   ]
  },
  {
   "cell_type": "code",
   "execution_count": 2,
   "metadata": {},
   "outputs": [
    {
     "name": "stdout",
     "output_type": "stream",
     "text": [
      "<class 'float'>\n",
      "3.1\n"
     ]
    }
   ],
   "source": [
    "x = 3.1\n",
    "print(type(x)) # Prints \"<class 'int'>\"\n",
    "print(x)       # Prints \"3\""
   ]
  },
  {
   "cell_type": "code",
   "execution_count": 2,
   "metadata": {},
   "outputs": [
    {
     "name": "stdout",
     "output_type": "stream",
     "text": [
      "4.1\n",
      "2.1\n",
      "6.2\n",
      "9.610000000000001\n"
     ]
    }
   ],
   "source": [
    "print(x + 1)   # Addition; prints \"4\"\n",
    "print(x - 1)   # Subtraction; prints \"2\"\n",
    "print(x * 2)   # Multiplication; prints \"6\"\n",
    "print(x ** 2)  # Exponentiation; prints \"9\""
   ]
  },
  {
   "cell_type": "markdown",
   "metadata": {},
   "source": [
    "## For statement"
   ]
  },
  {
   "cell_type": "markdown",
   "metadata": {},
   "source": [
    "range: 영역을 설정"
   ]
  },
  {
   "cell_type": "code",
   "execution_count": 3,
   "metadata": {},
   "outputs": [
    {
     "name": "stdout",
     "output_type": "stream",
     "text": [
      "range(0, 5)\n"
     ]
    }
   ],
   "source": [
    "A = range(5)\n",
    "print(A)"
   ]
  },
  {
   "cell_type": "markdown",
   "metadata": {},
   "source": [
    "* A의 세번째 요소를 출력"
   ]
  },
  {
   "cell_type": "code",
   "execution_count": 5,
   "metadata": {},
   "outputs": [
    {
     "name": "stdout",
     "output_type": "stream",
     "text": [
      "2\n"
     ]
    }
   ],
   "source": [
    "print(A[2])"
   ]
  },
  {
   "cell_type": "code",
   "execution_count": 6,
   "metadata": {},
   "outputs": [
    {
     "name": "stdout",
     "output_type": "stream",
     "text": [
      "0 ----- 0\n",
      "1 ----- 1\n",
      "2 ----- 2\n",
      "3 ----- 3\n",
      "4 ----- 4\n"
     ]
    }
   ],
   "source": [
    "for i in range(5):\n",
    "    #print(i, A[i])\n",
    "    print('{} ----- {}'.format(i, A[i]))\n",
    "    "
   ]
  },
  {
   "cell_type": "markdown",
   "metadata": {},
   "source": [
    "#### Excersise\n",
    "\n",
    "구구단을 작성하시오 (아래 코드를 수정하시오)"
   ]
  },
  {
   "cell_type": "code",
   "execution_count": 18,
   "metadata": {},
   "outputs": [
    {
     "name": "stdout",
     "output_type": "stream",
     "text": [
      "2 * 1 = 2\n",
      "2 * 2 = 4\n",
      "2 * 3 = 6\n",
      "2 * 4 = 8\n",
      "2 * 5 = 10\n",
      "2 * 6 = 12\n",
      "2 * 7 = 14\n",
      "2 * 8 = 16\n",
      "2 * 9 = 18\n",
      "-------------------------------\n",
      "3 * 1 = 3\n",
      "3 * 2 = 6\n",
      "3 * 3 = 9\n",
      "3 * 4 = 12\n",
      "3 * 5 = 15\n",
      "3 * 6 = 18\n",
      "3 * 7 = 21\n",
      "3 * 8 = 24\n",
      "3 * 9 = 27\n",
      "-------------------------------\n",
      "4 * 1 = 4\n",
      "4 * 2 = 8\n",
      "4 * 3 = 12\n",
      "4 * 4 = 16\n",
      "4 * 5 = 20\n",
      "4 * 6 = 24\n",
      "4 * 7 = 28\n",
      "4 * 8 = 32\n",
      "4 * 9 = 36\n",
      "-------------------------------\n",
      "5 * 1 = 5\n",
      "5 * 2 = 10\n",
      "5 * 3 = 15\n",
      "5 * 4 = 20\n",
      "5 * 5 = 25\n",
      "5 * 6 = 30\n",
      "5 * 7 = 35\n",
      "5 * 8 = 40\n",
      "5 * 9 = 45\n",
      "-------------------------------\n",
      "6 * 1 = 6\n",
      "6 * 2 = 12\n",
      "6 * 3 = 18\n",
      "6 * 4 = 24\n",
      "6 * 5 = 30\n",
      "6 * 6 = 36\n",
      "6 * 7 = 42\n",
      "6 * 8 = 48\n",
      "6 * 9 = 54\n",
      "-------------------------------\n",
      "7 * 1 = 7\n",
      "7 * 2 = 14\n",
      "7 * 3 = 21\n",
      "7 * 4 = 28\n",
      "7 * 5 = 35\n",
      "7 * 6 = 42\n",
      "7 * 7 = 49\n",
      "7 * 8 = 56\n",
      "7 * 9 = 63\n",
      "-------------------------------\n",
      "8 * 1 = 8\n",
      "8 * 2 = 16\n",
      "8 * 3 = 24\n",
      "8 * 4 = 32\n",
      "8 * 5 = 40\n",
      "8 * 6 = 48\n",
      "8 * 7 = 56\n",
      "8 * 8 = 64\n",
      "8 * 9 = 72\n",
      "-------------------------------\n",
      "9 * 1 = 9\n",
      "9 * 2 = 18\n",
      "9 * 3 = 27\n",
      "9 * 4 = 36\n",
      "9 * 5 = 45\n",
      "9 * 6 = 54\n",
      "9 * 7 = 63\n",
      "9 * 8 = 72\n",
      "9 * 9 = 81\n",
      "-------------------------------\n"
     ]
    }
   ],
   "source": [
    "for j in range(8):\n",
    "    for i in range(9):\n",
    "        print('{} * {} = {}'.format(j+2, i+1, (j+2)*(i+1)))\n",
    "        \n",
    "    print('-------------------------------')"
   ]
  },
  {
   "cell_type": "code",
   "execution_count": null,
   "metadata": {},
   "outputs": [],
   "source": []
  },
  {
   "cell_type": "markdown",
   "metadata": {},
   "source": [
    "## Operators"
   ]
  },
  {
   "cell_type": "code",
   "execution_count": 8,
   "metadata": {},
   "outputs": [
    {
     "name": "stdout",
     "output_type": "stream",
     "text": [
      "(1, 2, 3, 1, 2, 3, 1, 2, 3)\n",
      "[1, 2, 3, 1, 2, 3, 1, 2, 3]\n",
      "Hello Hello Hello \n"
     ]
    }
   ],
   "source": [
    "print((1, 2, 3) * 3)\n",
    "print([1, 2, 3] * 3)\n",
    "print(\"Hello \"*3)"
   ]
  },
  {
   "cell_type": "markdown",
   "metadata": {},
   "source": [
    "## Containers\n",
    "Python includes several built-in container types: lists, dictionaries, sets, and tuples."
   ]
  },
  {
   "cell_type": "markdown",
   "metadata": {},
   "source": [
    "### Tuple\n",
    "A simple immutable (변경할 수 없는, 불변의) ordered sequence of items"
   ]
  },
  {
   "cell_type": "code",
   "execution_count": 21,
   "metadata": {},
   "outputs": [
    {
     "name": "stdout",
     "output_type": "stream",
     "text": [
      "June\n",
      "index of 7 ==>  August\n",
      "index of 7 ==>  August\n"
     ]
    }
   ],
   "source": [
    "# -*- coding: utf-8 -*-\n",
    "# creating a tuple\n",
    "months = ('January','February','March','April','May','June',\\\n",
    "'July','August','September','October','November','December')\n",
    "\n",
    "print(months[5])\n",
    "print(\"index of 7 ==> \" , months[7])\n",
    "print(\"index of 7 ==>  {}\".format(months[7]))"
   ]
  },
  {
   "cell_type": "markdown",
   "metadata": {},
   "source": [
    "하나씩 출력하기"
   ]
  },
  {
   "cell_type": "code",
   "execution_count": 25,
   "metadata": {},
   "outputs": [
    {
     "name": "stdout",
     "output_type": "stream",
     "text": [
      "1 -- January\n",
      "2 -- February\n",
      "3 -- March\n",
      "4 -- April\n",
      "5 -- May\n",
      "6 -- June\n",
      "7 -- July\n",
      "8 -- August\n",
      "9 -- September\n",
      "10 -- October\n",
      "11 -- November\n",
      "12 -- December\n"
     ]
    }
   ],
   "source": [
    "for i in range(12):\n",
    "    print('{} -- {}'.format(i+1, months[i]))"
   ]
  },
  {
   "cell_type": "code",
   "execution_count": 10,
   "metadata": {
    "scrolled": true
   },
   "outputs": [
    {
     "name": "stdout",
     "output_type": "stream",
     "text": [
      "January\n",
      "February\n",
      "March\n",
      "April\n",
      "May\n",
      "June\n",
      "July\n",
      "August\n",
      "September\n",
      "October\n",
      "November\n",
      "December\n"
     ]
    }
   ],
   "source": [
    "# iterate through them:\n",
    "for item in months:\n",
    "    print (item)"
   ]
  },
  {
   "cell_type": "code",
   "execution_count": 11,
   "metadata": {},
   "outputs": [
    {
     "name": "stdout",
     "output_type": "stream",
     "text": [
      "('john', 32, (2, 3, 4, 5), 'hello')\n",
      "(2, 3, 4, 5)\n",
      "3\n",
      "('john', 32)\n",
      "((2, 3, 4, 5), 'hello')\n",
      "hello\n",
      "(2, 3, 4, 5)\n"
     ]
    }
   ],
   "source": [
    "t = ('john', 32, (2,3,4,5), 'hello')\n",
    "print(t)\n",
    "print(t[2])\n",
    "print(t[2][1])\n",
    "print(t[:2]) # index 포함 X\n",
    "print(t[2:]) # index 포함 O\n",
    "\n",
    "print(t[-1])\n",
    "print(t[-2])"
   ]
  },
  {
   "cell_type": "markdown",
   "metadata": {},
   "source": [
    "### List\n",
    "Mutable (바꿀수 있는, 변경가능한) ordered sequence of items of mixed types"
   ]
  },
  {
   "cell_type": "code",
   "execution_count": 12,
   "metadata": {},
   "outputs": [
    {
     "name": "stdout",
     "output_type": "stream",
     "text": [
      "['hallym', 1, 3.141572, 'hello']\n",
      "['hallym', 45, 3.141572, 'hello']\n",
      "['hallym', 45, 3.141572, 'hello', 'September']\n"
     ]
    }
   ],
   "source": [
    "li = ['hallym', 1, 3.141572, 'hello']\n",
    "print(li)\n",
    "li[1] = 45\n",
    "print(li)\n",
    "li.append('September')\n",
    "print(li)"
   ]
  },
  {
   "cell_type": "markdown",
   "metadata": {},
   "source": [
    "* 비어있는 리스트 만들기"
   ]
  },
  {
   "cell_type": "code",
   "execution_count": 13,
   "metadata": {},
   "outputs": [],
   "source": [
    "v = []"
   ]
  },
  {
   "cell_type": "markdown",
   "metadata": {},
   "source": [
    "* 비어있는 리스트에 값 추가하기"
   ]
  },
  {
   "cell_type": "code",
   "execution_count": 14,
   "metadata": {},
   "outputs": [
    {
     "name": "stdout",
     "output_type": "stream",
     "text": [
      "[0]\n",
      "[0, 5]\n",
      "[0, 5, 10]\n"
     ]
    }
   ],
   "source": [
    "for i in range(0,3):\n",
    "    v.append(i*5)\n",
    "    print(v)"
   ]
  },
  {
   "cell_type": "markdown",
   "metadata": {},
   "source": [
    "### + 연산자"
   ]
  },
  {
   "cell_type": "code",
   "execution_count": 15,
   "metadata": {},
   "outputs": [
    {
     "name": "stdout",
     "output_type": "stream",
     "text": [
      "(1, 2, 3, 4, 5, 6)\n",
      "[1, 2, 3, 4, 5, 6]\n",
      "Hello World\n"
     ]
    }
   ],
   "source": [
    "print((1, 2, 3) + (4, 5, 6))\n",
    "print([1, 2, 3] + [4, 5, 6])\n",
    "print(\"Hello\" + \" \" + \"World\")"
   ]
  },
  {
   "cell_type": "markdown",
   "metadata": {},
   "source": [
    "### * 연산자\n",
    "The * operator produces a new tuple, list, or string that \"repeats\" the original content."
   ]
  },
  {
   "cell_type": "code",
   "execution_count": 16,
   "metadata": {},
   "outputs": [
    {
     "name": "stdout",
     "output_type": "stream",
     "text": [
      "<class 'float'>\n",
      "2.5 3.5 5.0 6.25\n"
     ]
    }
   ],
   "source": [
    "y = 2.5\n",
    "print(type(y)) # Prints \"<class 'float'>\"\n",
    "print(y, y + 1, y * 2, y ** 2) # Prints \"2.5 3.5 5.0 6.25\""
   ]
  },
  {
   "cell_type": "markdown",
   "metadata": {},
   "source": [
    "### Enumeration (열거하기)"
   ]
  },
  {
   "cell_type": "code",
   "execution_count": 17,
   "metadata": {},
   "outputs": [
    {
     "name": "stdout",
     "output_type": "stream",
     "text": [
      "0 ---> 0\n",
      "1 ---> 5\n",
      "2 ---> 10\n"
     ]
    }
   ],
   "source": [
    "for i, val in enumerate(v):\n",
    "    print('{} ---> {}'.format(i, val))"
   ]
  },
  {
   "cell_type": "code",
   "execution_count": 18,
   "metadata": {},
   "outputs": [
    {
     "name": "stdout",
     "output_type": "stream",
     "text": [
      "[':', '?', 'A', 'B', 'C', 'D', 'E', 'F', 'G', 'V', 'W', 'Y', '0', '1', '2', '3', '4', '5', '6', '7', '8', '9']\n"
     ]
    }
   ],
   "source": [
    "v2 = [ ':', '?', 'A', 'B', 'C', 'D', 'E', 'F', 'G', 'V', 'W', 'Y', '0', '1', '2', '3', '4', '5', '6', '7', '8', '9']\n",
    "print(v2)"
   ]
  },
  {
   "cell_type": "code",
   "execution_count": 19,
   "metadata": {},
   "outputs": [
    {
     "name": "stdout",
     "output_type": "stream",
     "text": [
      "0 ---> :\n",
      "1 ---> ?\n",
      "2 ---> A\n",
      "3 ---> B\n",
      "4 ---> C\n",
      "5 ---> D\n",
      "6 ---> E\n",
      "7 ---> F\n",
      "8 ---> G\n",
      "9 ---> V\n",
      "10 ---> W\n",
      "11 ---> Y\n",
      "12 ---> 0\n",
      "13 ---> 1\n",
      "14 ---> 2\n",
      "15 ---> 3\n",
      "16 ---> 4\n",
      "17 ---> 5\n",
      "18 ---> 6\n",
      "19 ---> 7\n",
      "20 ---> 8\n",
      "21 ---> 9\n"
     ]
    }
   ],
   "source": [
    "for i, val in enumerate(v2):\n",
    "    print('{} ---> {}'.format(i, val))"
   ]
  }
 ],
 "metadata": {
  "kernelspec": {
   "display_name": "Python 3",
   "language": "python",
   "name": "python3"
  },
  "language_info": {
   "codemirror_mode": {
    "name": "ipython",
    "version": 3
   },
   "file_extension": ".py",
   "mimetype": "text/x-python",
   "name": "python",
   "nbconvert_exporter": "python",
   "pygments_lexer": "ipython3",
   "version": "3.6.6"
  }
 },
 "nbformat": 4,
 "nbformat_minor": 2
}
