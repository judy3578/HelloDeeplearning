{
 "cells": [
  {
   "cell_type": "markdown",
   "metadata": {},
   "source": [
    "### 중요  : XOR 학습하기 "
   ]
  },
  {
   "cell_type": "code",
   "execution_count": 1,
   "metadata": {
    "colab": {
     "autoexec": {
      "startup": false,
      "wait_interval": 0
     }
    },
    "colab_type": "code",
    "id": "0jmvhundCJDz"
   },
   "outputs": [],
   "source": [
    "import tensorflow as tf\n",
    "import numpy as np\n",
    "import matplotlib.pyplot as plt"
   ]
  },
  {
   "cell_type": "code",
   "execution_count": 2,
   "metadata": {
    "colab": {
     "autoexec": {
      "startup": false,
      "wait_interval": 0
     }
    },
    "colab_type": "code",
    "id": "WzW0FN3dCTzh"
   },
   "outputs": [],
   "source": [
    "tf.set_random_seed(777)  # for reproducibility 램덤효과가 모든 컴에서 똑같이 나오게 하는거로 777쓴거임 바꿀 수 있음 4쌍의 데이터로 머신러닝을 한다고?\n",
    "learning_rate = 0.1"
   ]
  },
  {
   "cell_type": "code",
   "execution_count": 3,
   "metadata": {
    "colab": {
     "autoexec": {
      "startup": false,
      "wait_interval": 0
     }
    },
    "colab_type": "code",
    "id": "TRFa_R0NCU9O"
   },
   "outputs": [],
   "source": [
    "x_data = [[0, 0],\n",
    "          [0, 1],\n",
    "          [1, 0],\n",
    "          [1, 1]]\n",
    "\n",
    "y_data = [[0],\n",
    "          [1],\n",
    "          [1],\n",
    "          [0]]"
   ]
  },
  {
   "cell_type": "code",
   "execution_count": 4,
   "metadata": {
    "colab": {
     "autoexec": {
      "startup": false,
      "wait_interval": 0
     }
    },
    "colab_type": "code",
    "id": "wryD8a17CXjl"
   },
   "outputs": [],
   "source": [
    "x_data = np.array(x_data, dtype=np.float32) # np는 넘파이인데 파이썬의 확장 라이브러리임, 숫자를 넘파이 형태로 바꾸는데, 좀더 많은 기능 수행\n",
    "y_data = np.array(y_data, dtype=np.float32)"
   ]
  },
  {
   "cell_type": "code",
   "execution_count": 5,
   "metadata": {
    "colab": {
     "autoexec": {
      "startup": false,
      "wait_interval": 0
     }
    },
    "colab_type": "code",
    "id": "cCl1Oc1wCZuH"
   },
   "outputs": [],
   "source": [
    "X = tf.placeholder(tf.float32, [None, 2]) # placeholder은 데이터 값을 나중에 넣겠다. 여기부터 텐설플로 무슨 데이터를 줄거면 float32 형태로 줄거다.\n",
    "Y = tf.placeholder(tf.float32, [None, 1]) # x는 1,0 /0,1 /0,0이니까 2인거고 y는 1아님 0이니까 1\n",
    "\n",
    "W1 = tf.Variable(tf.random_normal([2, 2]), name='weight1')\n",
    "b1 = tf.Variable(tf.random_normal([2]), name='bias1')\n",
    "layer1 = tf.sigmoid(tf.matmul(X, W1) + b1) # mat 은 행렬임. mul은 곱하기 x랑 w를 곱하고 b를 더한다. mat이면 동시에 여러개 곱한다 끝.입력에 w를 곱하고 b를 더한다\n",
    "\n",
    "W2 = tf.Variable(tf.random_normal([2, 1]), name='weight2')\n",
    "b2 = tf.Variable(tf.random_normal([1]), name='bias2')\n",
    "hypothesis = tf.sigmoid(tf.matmul(layer1, W2) + b2)# y라고 안쓰고 가설로 씀. 내가 만드는 값은 진짜 y는 아님 w랑 b를 잘 설계하면 y랑 맞을 수도 있고..\n",
    "# 가설구하고 답이랑 비교 항상 이거임 머신러닝"
   ]
  },
  {
   "cell_type": "code",
   "execution_count": 6,
   "metadata": {},
   "outputs": [],
   "source": [
    "#두번째 문단이 추가가 되므로써 뉴런들을 늘린거임 공책 필기 참조\n",
    "# w에 들어가는 거는 1이면 통과 0이면 막힘 4"
   ]
  },
  {
   "cell_type": "code",
   "execution_count": 7,
   "metadata": {
    "colab": {
     "autoexec": {
      "startup": false,
      "wait_interval": 0
     }
    },
    "colab_type": "code",
    "id": "NaCrzRooCaqo"
   },
   "outputs": [],
   "source": [
    "cost = tf.reduce_mean(tf.square(hypothesis - Y)) # 내가 만든 값이랑 가설이랑 빼서 제곱해서 부호 없애고 정확히 똑같다면 cost0이 나올거고,,\n",
    "train = tf.train.GradientDescentOptimizer(learning_rate=learning_rate).minimize(cost) # 숫자 맞추기 했던 사람 옵티마이저 답은 모르지만 답 맞춰가는 역할 하는게.\n",
    "# 옵티마이저야 cost를 최소화 해줘. cost는 뭐지? 위에 있잖아. 가설은 뭐지? 위에 있잖아."
   ]
  },
  {
   "cell_type": "code",
   "execution_count": 8,
   "metadata": {},
   "outputs": [],
   "source": [
    "# Launch graph 이제 그냥 해봐 하는거\n",
    "sess = tf.Session()"
   ]
  },
  {
   "cell_type": "code",
   "execution_count": 9,
   "metadata": {
    "colab": {
     "autoexec": {
      "startup": false,
      "wait_interval": 0
     },
     "base_uri": "https://localhost:8080/",
     "height": 287
    },
    "colab_type": "code",
    "executionInfo": {
     "elapsed": 3918,
     "status": "ok",
     "timestamp": 1525066741755,
     "user": {
      "displayName": "Seung-Chan Kim",
      "photoUrl": "//lh6.googleusercontent.com/-GfSlgMh8OAM/AAAAAAAAAAI/AAAAAAAAAU8/pF51x30wES8/s50-c-k-no/photo.jpg",
      "userId": "103475295474044689411"
     },
     "user_tz": -540
    },
    "id": "0ZX4wgM6Cjlc",
    "outputId": "1147857a-75eb-46ec-df1a-be91dbb6f14a"
   },
   "outputs": [],
   "source": [
    "# TensorFlow 변수들(variables) 초기화 (Initialization)\n",
    "sess.run(tf.global_variables_initializer())"
   ]
  },
  {
   "cell_type": "code",
   "execution_count": 10,
   "metadata": {},
   "outputs": [
    {
     "name": "stdout",
     "output_type": "stream",
     "text": [
      "step=0 / cost=0.2801596522331238\n",
      "step=1000 / cost=0.24803081154823303\n",
      "step=2000 / cost=0.23966965079307556\n",
      "step=3000 / cost=0.21757769584655762\n",
      "step=4000 / cost=0.18139860033988953\n",
      "step=5000 / cost=0.11436889320611954\n",
      "step=6000 / cost=0.048607610166072845\n",
      "step=7000 / cost=0.024382181465625763\n",
      "step=8000 / cost=0.015112258493900299\n",
      "step=9000 / cost=0.010631656274199486\n",
      "step=10000 / cost=0.008081654086709023\n",
      "step=11000 / cost=0.006464251317083836\n",
      "step=12000 / cost=0.005358193069696426\n",
      "step=13000 / cost=0.00455927150323987\n",
      "step=14000 / cost=0.003957805223762989\n",
      "step=15000 / cost=0.0034901120234280825\n",
      "step=16000 / cost=0.00311691383831203\n",
      "step=17000 / cost=0.0028127445839345455\n",
      "step=18000 / cost=0.0025604350958019495\n",
      "step=19000 / cost=0.0023479964584112167\n",
      "step=20000 / cost=0.0021668486297130585\n",
      "step=21000 / cost=0.002010660246014595\n",
      "step=22000 / cost=0.001874712761491537\n",
      "step=23000 / cost=0.0017553514335304499\n",
      "step=24000 / cost=0.0016497769393026829\n",
      "step=25000 / cost=0.0015557848382741213\n",
      "step=26000 / cost=0.0014715713914483786\n",
      "step=27000 / cost=0.0013957228511571884\n",
      "step=28000 / cost=0.0013270620256662369\n",
      "step=29000 / cost=0.0012646584073081613\n",
      "step=30000 / cost=0.0012076610000804067\n",
      "step=31000 / cost=0.0011554360389709473\n",
      "step=32000 / cost=0.001107431366108358\n",
      "step=33000 / cost=0.0010631382465362549\n",
      "step=34000 / cost=0.0010221361881121993\n",
      "step=35000 / cost=0.0009841136634349823\n",
      "step=36000 / cost=0.0009487217757850885\n",
      "step=37000 / cost=0.0009157169261015952\n",
      "step=38000 / cost=0.0008848707075230777\n",
      "step=39000 / cost=0.0008559896377846599\n",
      "step=40000 / cost=0.0008288790704682469\n",
      "step=41000 / cost=0.0008033977937884629\n",
      "step=42000 / cost=0.0007793920813128352\n",
      "step=43000 / cost=0.0007567750290036201\n",
      "step=44000 / cost=0.0007353951805271208\n",
      "step=45000 / cost=0.0007151198224164546\n",
      "step=46000 / cost=0.0006958795711398125\n",
      "step=47000 / cost=0.0006777337985113263\n",
      "step=48000 / cost=0.0006603933870792389\n",
      "step=49000 / cost=0.0006439161952584982\n",
      "step=50000 / cost=0.0006282631075009704\n"
     ]
    }
   ],
   "source": [
    "# w랑 b가 9개나 되는데 그걸 10000번정도 돌려보는 거임.\n",
    "for i in range(50001):\n",
    "    sess.run(train, feed_dict={X: x_data, Y: y_data})\n",
    "\n",
    "# 1000을때 나머지 1000번마다 잘 되고 있는지 보려고\n",
    "    if i % 1000 ==0:\n",
    "        c1 = sess.run(cost, feed_dict={X: x_data, Y: y_data})\n",
    "        print('step={} / cost={}'.format(i, c1))\n",
    "        \n",
    "# cost가 작아졌다는 건 가설이랑y 값이랑 비슷해졋다."
   ]
  },
  {
   "cell_type": "markdown",
   "metadata": {},
   "source": [
    "### 결과 확인하기"
   ]
  },
  {
   "cell_type": "code",
   "execution_count": 11,
   "metadata": {},
   "outputs": [
    {
     "name": "stdout",
     "output_type": "stream",
     "text": [
      "0 [[0.02516553]]\n",
      "1 [[0.971179]]\n",
      "2 [[0.9765999]]\n",
      "3 [[0.02239494]]\n"
     ]
    }
   ],
   "source": [
    "for i in range(4):\n",
    "    x1 = x_data[[i], :]\n",
    "\n",
    "    l1 = tf.sigmoid(tf.matmul(x1, W1) + b1)\n",
    "    l2 = tf.sigmoid(tf.matmul(l1, W2) + b2)\n",
    "    #l2cast = tf.cast(l2 > 0.5, dtype=tf.float32)\n",
    "    print( i, sess.run(l2)) #l2의 값을 보려고 \n",
    "    #print( i, sess.run(l2), sess.run(l2cast), y_data[[i], :])   "
   ]
  },
  {
   "cell_type": "code",
   "execution_count": 12,
   "metadata": {},
   "outputs": [],
   "source": [
    "# 0,1,1,0 이 되면 정답인데 거의 비슷하게 나옴 "
   ]
  },
  {
   "cell_type": "markdown",
   "metadata": {},
   "source": [
    "* HW : 위의 코드를 변형하여 XOR 학습시 얻어진 Cost 그래프를 그리시오. Hint : List 사용"
   ]
  },
  {
   "cell_type": "markdown",
   "metadata": {},
   "source": [
    "### 참고 : Sigmoid"
   ]
  },
  {
   "cell_type": "code",
   "execution_count": 19,
   "metadata": {
    "colab": {
     "autoexec": {
      "startup": false,
      "wait_interval": 0
     }
    },
    "colab_type": "code",
    "id": "YFKOTPa9Dh3-"
   },
   "outputs": [
    {
     "name": "stdout",
     "output_type": "stream",
     "text": [
      "0.0 --> 0.5\n"
     ]
    }
   ],
   "source": [
    "y1 = 0.0\n",
    "y2 = sess.run(tf.sigmoid(y1))\n",
    "print('{} --> {}'.format(y1, y2))"
   ]
  },
  {
   "cell_type": "markdown",
   "metadata": {},
   "source": [
    "Sigmoid를 그려볼까요?"
   ]
  },
  {
   "cell_type": "code",
   "execution_count": 14,
   "metadata": {},
   "outputs": [
    {
     "name": "stdout",
     "output_type": "stream",
     "text": [
      "[-10.   -9.5  -9.   -8.5  -8.   -7.5  -7.   -6.5  -6.   -5.5  -5.   -4.5\n",
      "  -4.   -3.5  -3.   -2.5  -2.   -1.5  -1.   -0.5   0.    0.5   1.    1.5\n",
      "   2.    2.5   3.    3.5   4.    4.5   5.    5.5   6.    6.5   7.    7.5\n",
      "   8.    8.5   9.    9.5]\n"
     ]
    }
   ],
   "source": [
    "#이건 그려올 수 있으면 그려보기\n",
    "x1 = np.arange(-10,10, 0.5) # 10에서 10까지 0,5간격으로 넣어봄\n",
    "print(x1)"
   ]
  },
  {
   "cell_type": "code",
   "execution_count": 15,
   "metadata": {},
   "outputs": [
    {
     "name": "stdout",
     "output_type": "stream",
     "text": [
      "-10.0 --> 4.5397868702434395e-05\n",
      "-9.5 --> 7.484622751061123e-05\n",
      "-9.0 --> 0.00012339457598623172\n",
      "-8.5 --> 0.00020342697805520653\n",
      "-8.0 --> 0.0003353501304664781\n",
      "-7.5 --> 0.0005527786369235996\n",
      "-7.0 --> 0.0009110511944006454\n",
      "-6.5 --> 0.0015011822567369917\n",
      "-6.0 --> 0.0024726231566347743\n",
      "-5.5 --> 0.004070137715896128\n",
      "-5.0 --> 0.0066928509242848554\n",
      "-4.5 --> 0.01098694263059318\n",
      "-4.0 --> 0.01798620996209156\n",
      "-3.5 --> 0.02931223075135632\n",
      "-3.0 --> 0.04742587317756678\n",
      "-2.5 --> 0.07585818002124355\n",
      "-2.0 --> 0.11920292202211755\n",
      "-1.5 --> 0.18242552380635635\n",
      "-1.0 --> 0.2689414213699951\n",
      "-0.5 --> 0.3775406687981454\n",
      "0.0 --> 0.5\n",
      "0.5 --> 0.6224593312018546\n",
      "1.0 --> 0.7310585786300049\n",
      "1.5 --> 0.8175744761936437\n",
      "2.0 --> 0.8807970779778823\n",
      "2.5 --> 0.9241418199787566\n",
      "3.0 --> 0.9525741268224334\n",
      "3.5 --> 0.9706877692486436\n",
      "4.0 --> 0.9820137900379085\n",
      "4.5 --> 0.9890130573694068\n",
      "5.0 --> 0.9933071490757153\n",
      "5.5 --> 0.995929862284104\n",
      "6.0 --> 0.9975273768433653\n",
      "6.5 --> 0.998498817743263\n",
      "7.0 --> 0.9990889488055994\n",
      "7.5 --> 0.9994472213630764\n",
      "8.0 --> 0.9996646498695336\n",
      "8.5 --> 0.9997965730219448\n",
      "9.0 --> 0.9998766054240137\n",
      "9.5 --> 0.9999251537724895\n"
     ]
    }
   ],
   "source": [
    "for i in range(len(x1)):\n",
    "    y1 = x1[i]\n",
    "    y2 = sess.run(tf.sigmoid(y1))\n",
    "    print('{} --> {}'.format(y1, y2))"
   ]
  },
  {
   "cell_type": "code",
   "execution_count": null,
   "metadata": {},
   "outputs": [],
   "source": [
    "# 0.0에서 0.5 나오고 "
   ]
  }
 ],
 "metadata": {
  "colab": {
   "collapsed_sections": [],
   "default_view": {},
   "name": "TF03-1-XOR.ipynb",
   "provenance": [],
   "version": "0.3.2",
   "views": {}
  },
  "kernelspec": {
   "display_name": "Python 3",
   "language": "python",
   "name": "python3"
  },
  "language_info": {
   "codemirror_mode": {
    "name": "ipython",
    "version": 3
   },
   "file_extension": ".py",
   "mimetype": "text/x-python",
   "name": "python",
   "nbconvert_exporter": "python",
   "pygments_lexer": "ipython3",
   "version": "3.6.6"
  }
 },
 "nbformat": 4,
 "nbformat_minor": 1
}
