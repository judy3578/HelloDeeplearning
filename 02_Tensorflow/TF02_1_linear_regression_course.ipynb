{
 "cells": [
  {
   "cell_type": "markdown",
   "metadata": {},
   "source": [
    "Linear regression 을 학습하며, 기계학습의 원리 및 TensorFlow 를 익히는 notebook 입니다."
   ]
  },
  {
   "cell_type": "markdown",
   "metadata": {},
   "source": [
    "**라이브러리 Import 하기**"
   ]
  },
  {
   "cell_type": "code",
   "execution_count": 1,
   "metadata": {
    "colab": {
     "autoexec": {
      "startup": false,
      "wait_interval": 0
     }
    },
    "colab_type": "code",
    "id": "ObrlFsLKTkVJ"
   },
   "outputs": [],
   "source": [
    "import tensorflow as tf\n",
    "import numpy as np\n",
    "import matplotlib.pyplot as plt"
   ]
  },
  {
   "cell_type": "markdown",
   "metadata": {
    "colab_type": "text",
    "id": "Ff--9qgf5KiX"
   },
   "source": [
    "**X and Y data**"
   ]
  },
  {
   "cell_type": "code",
   "execution_count": 1,
   "metadata": {
    "colab": {
     "autoexec": {
      "startup": false,
      "wait_interval": 0
     }
    },
    "colab_type": "code",
    "id": "m8a3CxTPTmGW"
   },
   "outputs": [],
   "source": [
    "x_train = [1, 2, 3]\n",
    "\n",
    "y_train = [2+0.1, 4-0.3, 6+0.15] # 약간의 noise 추가\n",
    "\n",
    "# 다음의 것들도 해보시오\n",
    "#y_train = [2, 4, 6] # 그냥 x_train 에 2배 곱해서 생성\n",
    "#y_train = [3, 5, 7]"
   ]
  },
  {
   "cell_type": "markdown",
   "metadata": {
    "colab_type": "text",
    "id": "SkmD0jC-5O4h"
   },
   "source": [
    "**Initialization**"
   ]
  },
  {
   "cell_type": "code",
   "execution_count": 3,
   "metadata": {
    "colab": {
     "autoexec": {
      "startup": false,
      "wait_interval": 0
     }
    },
    "colab_type": "code",
    "id": "s2teBTHMTpvu"
   },
   "outputs": [],
   "source": [
    "#W = tf.Variable(tf.random_normal([1]), name='weight')\n",
    "#b = tf.Variable(tf.random_normal([1]), name='bias')\n",
    "w0 = 7.0;\n",
    "b0 = 5.0;\n",
    "\n",
    "W = tf.Variable(w0*tf.ones([1]), name='weight')\n",
    "b = tf.Variable(b0*tf.ones([1]), name='bias')"
   ]
  },
  {
   "cell_type": "markdown",
   "metadata": {
    "colab_type": "text",
    "id": "bKecubeL5Rk1"
   },
   "source": [
    "**Our hypothesis XW+b**"
   ]
  },
  {
   "cell_type": "code",
   "execution_count": 4,
   "metadata": {
    "colab": {
     "autoexec": {
      "startup": false,
      "wait_interval": 0
     }
    },
    "colab_type": "code",
    "id": "qc634hVjTshB"
   },
   "outputs": [],
   "source": [
    "hypothesis = x_train * W + b"
   ]
  },
  {
   "cell_type": "markdown",
   "metadata": {
    "colab_type": "text",
    "id": "hgAMH_UP5Vei"
   },
   "source": [
    "**cost/loss function 정의하기**\n",
    "* loss of one training example : \n",
    "$$loss = \\mathcal{L}(\\hat{y}, y) = (\\hat y^{(i)} - y^{(i)})^2 \\tag{1}$$"
   ]
  },
  {
   "cell_type": "code",
   "execution_count": 5,
   "metadata": {
    "colab": {
     "autoexec": {
      "startup": false,
      "wait_interval": 0
     }
    },
    "colab_type": "code",
    "id": "5RPz8FVqTvaD"
   },
   "outputs": [],
   "source": [
    "loss = tf.reduce_mean(tf.square(hypothesis - y_train))"
   ]
  },
  {
   "cell_type": "markdown",
   "metadata": {
    "colab_type": "text",
    "id": "jfkFeTNj5bd0"
   },
   "source": [
    "**Optimizer**"
   ]
  },
  {
   "cell_type": "code",
   "execution_count": 6,
   "metadata": {
    "colab": {
     "autoexec": {
      "startup": false,
      "wait_interval": 0
     }
    },
    "colab_type": "code",
    "id": "_hpMR9RZTwjC"
   },
   "outputs": [],
   "source": [
    "optimizer = tf.train.GradientDescentOptimizer(learning_rate=0.01)\n",
    "train = optimizer.minimize(loss)\n"
   ]
  },
  {
   "cell_type": "markdown",
   "metadata": {
    "colab_type": "text",
    "id": "Yv_IR1Wx44M6"
   },
   "source": [
    "**Launch the graph in a session**"
   ]
  },
  {
   "cell_type": "code",
   "execution_count": 7,
   "metadata": {
    "colab": {
     "autoexec": {
      "startup": false,
      "wait_interval": 0
     }
    },
    "colab_type": "code",
    "id": "LN795UxoTxtC"
   },
   "outputs": [],
   "source": [
    "sess = tf.Session()"
   ]
  },
  {
   "cell_type": "markdown",
   "metadata": {
    "colab_type": "text",
    "id": "vQAFU25K5BCw"
   },
   "source": [
    "**Initializes global variables in the graph.** "
   ]
  },
  {
   "cell_type": "code",
   "execution_count": 8,
   "metadata": {
    "colab": {
     "autoexec": {
      "startup": false,
      "wait_interval": 0
     }
    },
    "colab_type": "code",
    "id": "oA5AMENsTzDW"
   },
   "outputs": [],
   "source": [
    "sess.run(tf.global_variables_initializer())"
   ]
  },
  {
   "cell_type": "code",
   "execution_count": 9,
   "metadata": {
    "colab": {
     "autoexec": {
      "startup": false,
      "wait_interval": 0
     },
     "base_uri": "https://localhost:8080/",
     "height": 1835
    },
    "colab_type": "code",
    "executionInfo": {
     "elapsed": 819,
     "status": "ok",
     "timestamp": 1525064111713,
     "user": {
      "displayName": "Seung-Chan Kim",
      "photoUrl": "//lh6.googleusercontent.com/-GfSlgMh8OAM/AAAAAAAAAAI/AAAAAAAAAU8/pF51x30wES8/s50-c-k-no/photo.jpg",
      "userId": "103475295474044689411"
     },
     "user_tz": -540
    },
    "id": "Of8RSfAgT065",
    "outputId": "4dd86139-2df5-466b-8433-9ad9e71ba740"
   },
   "outputs": [
    {
     "ename": "NameError",
     "evalue": "name 'cost' is not defined",
     "output_type": "error",
     "traceback": [
      "\u001b[1;31m---------------------------------------------------------------------------\u001b[0m",
      "\u001b[1;31mNameError\u001b[0m                                 Traceback (most recent call last)",
      "\u001b[1;32m<ipython-input-9-2737925e6a2a>\u001b[0m in \u001b[0;36m<module>\u001b[1;34m()\u001b[0m\n\u001b[0;32m      7\u001b[0m       \u001b[0mw1\u001b[0m \u001b[1;33m=\u001b[0m \u001b[0msess\u001b[0m\u001b[1;33m.\u001b[0m\u001b[0mrun\u001b[0m\u001b[1;33m(\u001b[0m\u001b[0mW\u001b[0m\u001b[1;33m)\u001b[0m\u001b[1;33m[\u001b[0m\u001b[1;36m0\u001b[0m\u001b[1;33m]\u001b[0m \u001b[1;31m# 기울기\u001b[0m\u001b[1;33m\u001b[0m\u001b[0m\n\u001b[0;32m      8\u001b[0m       \u001b[0mb1\u001b[0m \u001b[1;33m=\u001b[0m \u001b[0msess\u001b[0m\u001b[1;33m.\u001b[0m\u001b[0mrun\u001b[0m\u001b[1;33m(\u001b[0m\u001b[0mb\u001b[0m\u001b[1;33m)\u001b[0m\u001b[1;33m[\u001b[0m\u001b[1;36m0\u001b[0m\u001b[1;33m]\u001b[0m \u001b[1;31m# bias\u001b[0m\u001b[1;33m\u001b[0m\u001b[0m\n\u001b[1;32m----> 9\u001b[1;33m       \u001b[0mprint\u001b[0m\u001b[1;33m(\u001b[0m\u001b[0mstep\u001b[0m\u001b[1;33m,\u001b[0m \u001b[0msess\u001b[0m\u001b[1;33m.\u001b[0m\u001b[0mrun\u001b[0m\u001b[1;33m(\u001b[0m\u001b[0mcost\u001b[0m\u001b[1;33m)\u001b[0m\u001b[1;33m,\u001b[0m \u001b[0mw1\u001b[0m\u001b[1;33m,\u001b[0m \u001b[0mb1\u001b[0m\u001b[1;33m)\u001b[0m\u001b[1;33m\u001b[0m\u001b[0m\n\u001b[0m",
      "\u001b[1;31mNameError\u001b[0m: name 'cost' is not defined"
     ]
    }
   ],
   "source": [
    "nb_epoch = 2001\n",
    "\n",
    "for step in range(nb_epoch):\n",
    "    sess.run(train)\n",
    "    \n",
    "    if step % 100 == 0: # 100번마다\n",
    "      w1 = sess.run(W)[0] # 기울기\n",
    "      b1 = sess.run(b)[0] # bias\n",
    "      print(step, sess.run(loss), w1, b1)"
   ]
  },
  {
   "cell_type": "markdown",
   "metadata": {
    "colab_type": "text",
    "id": "gbt69NzVUGYw"
   },
   "source": [
    "\n",
    "**학습완료**"
   ]
  },
  {
   "cell_type": "code",
   "execution_count": null,
   "metadata": {
    "colab": {
     "autoexec": {
      "startup": false,
      "wait_interval": 0
     },
     "base_uri": "https://localhost:8080/",
     "height": 53
    },
    "colab_type": "code",
    "executionInfo": {
     "elapsed": 591,
     "status": "ok",
     "timestamp": 1525064112331,
     "user": {
      "displayName": "Seung-Chan Kim",
      "photoUrl": "//lh6.googleusercontent.com/-GfSlgMh8OAM/AAAAAAAAAAI/AAAAAAAAAU8/pF51x30wES8/s50-c-k-no/photo.jpg",
      "userId": "103475295474044689411"
     },
     "user_tz": -540
    },
    "id": "2aMiqAyJUDbs",
    "outputId": "2fa00885-9e31-4268-ea2d-537eef890bf1"
   },
   "outputs": [],
   "source": [
    "w1 = sess.run(W)[0] # 기울기\n",
    "b1 = sess.run(b)[0] # bias"
   ]
  },
  {
   "cell_type": "markdown",
   "metadata": {},
   "source": [
    "출력해보기"
   ]
  },
  {
   "cell_type": "code",
   "execution_count": null,
   "metadata": {},
   "outputs": [],
   "source": [
    "print(w1, b1)\n",
    "\n",
    "str1 = 'y = ' + str(w1) +'x + ' + str(b1)\n",
    "print(str1)"
   ]
  },
  {
   "cell_type": "code",
   "execution_count": null,
   "metadata": {
    "colab": {
     "autoexec": {
      "startup": false,
      "wait_interval": 0
     },
     "base_uri": "https://localhost:8080/",
     "height": 380
    },
    "colab_type": "code",
    "executionInfo": {
     "elapsed": 525,
     "status": "ok",
     "timestamp": 1525064272505,
     "user": {
      "displayName": "Seung-Chan Kim",
      "photoUrl": "//lh6.googleusercontent.com/-GfSlgMh8OAM/AAAAAAAAAAI/AAAAAAAAAU8/pF51x30wES8/s50-c-k-no/photo.jpg",
      "userId": "103475295474044689411"
     },
     "user_tz": -540
    },
    "id": "ZFOmY19QUNKh",
    "outputId": "c45e2812-39d0-4966-c855-5493cad25e19"
   },
   "outputs": [],
   "source": [
    "plt.figure(1)\n",
    "plt.plot(x_train, y_train,'o')\n",
    "\n",
    "# 그래프의 x좌표를 일정 간격으로 설정함\n",
    "x1 = np.linspace(np.min(x_train)-1, np.max(x_train)+1)\n",
    "y1 = w1*x1 + b1\n",
    "plt.plot(x1, y1)\n",
    "plt.grid() # 격자\n",
    "#plt.axis((np.min(x_train) - 1, np.max(x_train) + 1, np.min(y_train) - 1, np.max(y_train) + 1))\n",
    "plt.title(str1)"
   ]
  },
  {
   "cell_type": "markdown",
   "metadata": {
    "colab": {
     "autoexec": {
      "startup": false,
      "wait_interval": 0
     }
    },
    "colab_type": "code",
    "id": "lR0iEg4u6cgE"
   },
   "source": [
    "### 스스로 해보기\n",
    "아래 부분을 수정해서 처음부터 다시 진행해보기 바랍니다.\n",
    "```\n",
    "x_train = [1, 2, 3]\n",
    "y_train = [2+0.1, 4-0.3, 6+0.15] # 약간의 noise 추가\n",
    "```"
   ]
  },
  {
   "cell_type": "code",
   "execution_count": null,
   "metadata": {},
   "outputs": [],
   "source": []
  }
 ],
 "metadata": {
  "colab": {
   "collapsed_sections": [],
   "default_view": {},
   "name": "TF02-1-linear_regression.ipynb",
   "provenance": [],
   "version": "0.3.2",
   "views": {}
  },
  "kernelspec": {
   "display_name": "Python 3",
   "language": "python",
   "name": "python3"
  },
  "language_info": {
   "codemirror_mode": {
    "name": "ipython",
    "version": 3
   },
   "file_extension": ".py",
   "mimetype": "text/x-python",
   "name": "python",
   "nbconvert_exporter": "python",
   "pygments_lexer": "ipython3",
   "version": "3.6.6"
  }
 },
 "nbformat": 4,
 "nbformat_minor": 1
}
