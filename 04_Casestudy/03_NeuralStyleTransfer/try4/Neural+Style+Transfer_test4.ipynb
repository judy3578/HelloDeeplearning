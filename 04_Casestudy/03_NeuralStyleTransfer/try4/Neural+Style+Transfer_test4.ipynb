{
 "cells": [
  {
   "cell_type": "markdown",
   "metadata": {},
   "source": [
    "# Deep Learning & Art: Neural Style Transfer\n",
    "\n",
    "In this assignment, you will learn about Neural Style Transfer. This algorithm was created by Gatys et al. (2015) (https://arxiv.org/abs/1508.06576). \n",
    "\n",
    "**In this assignment, you will:**\n",
    "- Generate novel artistic images using your algorithm "
   ]
  },
  {
   "cell_type": "code",
   "execution_count": 1,
   "metadata": {},
   "outputs": [],
   "source": [
    "import warnings\n",
    "warnings.filterwarnings('ignore')\n",
    "import sys\n",
    "import scipy.io\n",
    "import scipy.misc\n",
    "import matplotlib.pyplot as plt\n",
    "from matplotlib.pyplot import imshow\n",
    "from PIL import Image\n",
    "from nst_utils import *\n",
    "import numpy as np\n",
    "import tensorflow as tf\n",
    "\n",
    "%matplotlib inline"
   ]
  },
  {
   "cell_type": "markdown",
   "metadata": {},
   "source": [
    "결과 저장을 위한 폴더 생성"
   ]
  },
  {
   "cell_type": "code",
   "execution_count": 2,
   "metadata": {},
   "outputs": [],
   "source": [
    "import os\n",
    "directory_out = 'output' #output 폴더는 매번 만듬 새로운거 하려면 output폴더 이름 바꿔놓고 새로 돌려야함 안그럼 덮어씌움\n",
    "if not os.path.exists(directory_out):\n",
    "    os.makedirs(directory_out)"
   ]
  },
  {
   "cell_type": "markdown",
   "metadata": {},
   "source": [
    "## 1 - Problem Statement\n",
    "\n",
    "Neural Style Transfer (NST) is one of the most fun techniques in deep learning. As seen below, it merges two images, namely, a \"content\" image (C) and a \"style\" image (S), to create a \"generated\" image (G). The generated image G combines the \"content\" of the image C with the \"style\" of image S. \n",
    "\n",
    "In this example, you are going to generate an image of the Louvre museum in Paris (content image C), mixed with a painting by Claude Monet, a leader of the impressionist movement (style image S).\n",
    "<img src=\"images/louvre_generated.png\" style=\"width:750px;height:200px;\">\n",
    "\n",
    "Let's see how you can do this. "
   ]
  },
  {
   "cell_type": "markdown",
   "metadata": {},
   "source": [
    "## 2 - Transfer Learning\n",
    "\n",
    "Neural Style Transfer (NST) uses a previously trained convolutional network, and builds on top of that. The idea of using a network trained on a different task and applying it to a new task is called transfer learning. \n",
    "\n",
    "Following the original NST paper (https://arxiv.org/abs/1508.06576), we will use the VGG network. Specifically, we'll use VGG-19, a 19-layer version of the VGG network. This model has already been trained on the very large ImageNet database, and thus has learned to recognize a variety of low level features (at the earlier layers) and high level features (at the deeper layers). \n",
    "\n",
    "Run the following code to load parameters from the VGG model. This may take a few seconds. "
   ]
  },
  {
   "cell_type": "code",
   "execution_count": 3,
   "metadata": {},
   "outputs": [],
   "source": [
    "model = load_vgg_model(\"pretrained-model/imagenet-vgg-verydeep-19.mat\")\n",
    "#print(model)"
   ]
  },
  {
   "cell_type": "markdown",
   "metadata": {},
   "source": [
    "The model is stored in a python dictionary where each variable name is the key and the corresponding value is a tensor containing that variable's value. To run an image through this network, you just have to feed the image to the model. In TensorFlow, you can do so using the [tf.assign](https://www.tensorflow.org/api_docs/python/tf/assign) function. In particular, you will use the assign function like this:  \n",
    "```python\n",
    "model[\"input\"].assign(image)\n",
    "```\n",
    "This assigns the image as an input to the model. After this, if you want to access the activations of a particular layer, say layer `4_2` when the network is run on this image, you would run a TensorFlow session on the correct tensor `conv4_2`, as follows:  \n",
    "```python\n",
    "sess.run(model[\"conv4_2\"])\n",
    "```"
   ]
  },
  {
   "cell_type": "markdown",
   "metadata": {},
   "source": [
    "<img src='images/vgg.png'>"
   ]
  },
  {
   "cell_type": "markdown",
   "metadata": {},
   "source": [
    "## 3 - Neural Style Transfer \n",
    "\n",
    "We will build the NST algorithm in three steps:\n",
    "\n",
    "- Build the content cost function $J_{content}(C,G)$\n",
    "- Build the style cost function $J_{style}(S,G)$\n",
    "- Put it together to get $J(G) = \\alpha J_{content}(C,G) + \\beta J_{style}(S,G)$. \n",
    "\n",
    "### 3.1 - Computing the content cost\n",
    "\n",
    "In our running example, the content image C will be the picture of the Louvre Museum in Paris. Run the code below to see a picture of the Louvre."
   ]
  },
  {
   "cell_type": "code",
   "execution_count": 4,
   "metadata": {},
   "outputs": [],
   "source": [
    "# GRADED FUNCTION: compute_content_cost\n",
    "\n",
    "def compute_content_cost(a_C, a_G):\n",
    "    \"\"\"\n",
    "    Computes the content cost\n",
    "    \n",
    "    Arguments:\n",
    "    a_C -- tensor of dimension (1, n_H, n_W, n_C), hidden layer activations representing content of the image C \n",
    "    a_G -- tensor of dimension (1, n_H, n_W, n_C), hidden layer activations representing content of the image G\n",
    "    \n",
    "    Returns: \n",
    "    J_content -- scalar that you compute using equation 1 above.\n",
    "    \"\"\"\n",
    "    \n",
    "    ### START CODE HERE ###\n",
    "    # Retrieve dimensions from a_G \n",
    "    m, n_H, n_W, n_C = a_G.get_shape().as_list()\n",
    "    \n",
    "    # Reshape a_C and a_G (≈2 lines)\n",
    "    a_C_unrolled = tf.reshape(a_C, shape=[m, n_H*n_W, n_C])\n",
    "    a_G_unrolled = tf.reshape(a_G, shape=[m, n_H*n_W, n_C])\n",
    "    \n",
    "    # compute the cost with tensorflow (≈1 line)\n",
    "    J_content = 1/(4*n_H*n_W* n_C) * tf.reduce_sum(tf.square(a_C_unrolled - a_G_unrolled))\n",
    "    ### END CODE HERE ###\n",
    "    \n",
    "    return J_content"
   ]
  },
  {
   "cell_type": "markdown",
   "metadata": {},
   "source": [
    "* 임의의 a_C, a_G 를 만들고 Cost를 구해보기"
   ]
  },
  {
   "cell_type": "code",
   "execution_count": 5,
   "metadata": {},
   "outputs": [
    {
     "name": "stdout",
     "output_type": "stream",
     "text": [
      "J_content = 6.7655926\n"
     ]
    }
   ],
   "source": [
    "tf.reset_default_graph()\n",
    "\n",
    "with tf.Session() as test:\n",
    "    tf.set_random_seed(1)\n",
    "    a_C = tf.random_normal([1, 4, 4, 3], mean=1, stddev=4)\n",
    "    a_G = tf.random_normal([1, 4, 4, 3], mean=1, stddev=4)\n",
    "    J_content = compute_content_cost(a_C, a_G)\n",
    "    \n",
    "    #print('a_C = ')\n",
    "    #print(test.run(a_C))\n",
    "    print(\"J_content = \" + str(J_content.eval()))"
   ]
  },
  {
   "cell_type": "markdown",
   "metadata": {},
   "source": [
    "<font color='blue'>\n",
    "**What you should remember**:\n",
    "- The content cost takes a hidden layer activation of the neural network, and measures how different $a^{(C)}$ and $a^{(G)}$ are. \n",
    "- When we minimize the content cost later, this will help make sure $G$ has similar content as $C$."
   ]
  },
  {
   "cell_type": "markdown",
   "metadata": {},
   "source": [
    "### 3.2 - Computing the style cost\n",
    "\n"
   ]
  },
  {
   "cell_type": "markdown",
   "metadata": {},
   "source": [
    "### 3.2.1 - Style matrix\n",
    "\n",
    "The style matrix is also called a \"Gram matrix.\" In linear algebra, the Gram matrix G of a set of vectors $(v_{1},\\dots ,v_{n})$ is the matrix of dot products, whose entries are ${\\displaystyle G_{ij} = v_{i}^T v_{j} = np.dot(v_{i}, v_{j})  }$. In other words, $G_{ij}$ compares how similar $v_i$ is to $v_j$: If they are highly similar, you would expect them to have a large dot product, and thus for $G_{ij}$ to be large. \n",
    "\n",
    "Note that there is an unfortunate collision in the variable names used here. We are following common terminology used in the literature, but $G$ is used to denote the Style matrix (or Gram matrix) as well as to denote the generated image $G$. We will try to make sure which $G$ we are referring to is always clear from the context. \n",
    "\n",
    "In NST, you can compute the Style matrix by multiplying the \"unrolled\" filter matrix with their transpose:\n",
    "\n",
    "<img src=\"images/NST_GM.png\" style=\"width:900px;height:300px;\">\n",
    "\n",
    "The result is a matrix of dimension $(n_C,n_C)$ where $n_C$ is the number of filters. The value $G_{ij}$ measures how similar the activations of filter $i$ are to the activations of filter $j$. \n",
    "\n",
    "One important part of the gram matrix is that the diagonal elements such as $G_{ii}$ also measures how active filter $i$ is. For example, suppose filter $i$ is detecting vertical textures in the image. Then $G_{ii}$ measures how common  vertical textures are in the image as a whole: If $G_{ii}$ is large, this means that the image has a lot of vertical texture. \n",
    "\n",
    "By capturing the prevalence of different types of features ($G_{ii}$), as well as how much different features occur together ($G_{ij}$), the Style matrix $G$ measures the style of an image. \n",
    "\n",
    "**Exercise**:\n",
    "Using TensorFlow, implement a function that computes the Gram matrix of a matrix A. The formula is: The gram matrix of A is $G_A = AA^T$. "
   ]
  },
  {
   "cell_type": "code",
   "execution_count": 6,
   "metadata": {},
   "outputs": [],
   "source": [
    "# GRADED FUNCTION: gram_matrix\n",
    "\n",
    "def gram_matrix(A):\n",
    "    \"\"\"\n",
    "    Argument:\n",
    "    A -- matrix of shape (n_C, n_H*n_W)\n",
    "    \n",
    "    Returns:\n",
    "    GA -- Gram matrix of A, of shape (n_C, n_C)\n",
    "    \"\"\"\n",
    "    \n",
    "    GA = tf.matmul(A, tf.transpose(A))\n",
    "   \n",
    "    \n",
    "    return GA"
   ]
  },
  {
   "cell_type": "markdown",
   "metadata": {},
   "source": [
    "### 3.2.2 - Style cost"
   ]
  },
  {
   "cell_type": "markdown",
   "metadata": {},
   "source": [
    "After generating the Style matrix (Gram matrix), your goal will be to minimize the distance between the Gram matrix of the \"style\" image S and that of the \"generated\" image G. For now, we are using only a single hidden layer $a^{[l]}$, and the corresponding style cost for this layer is defined as: \n",
    "\n",
    "$$J_{style}^{[l]}(S,G) = \\frac{1}{4 \\times {n_C}^2 \\times (n_H \\times n_W)^2} \\sum _{i=1}^{n_C}\\sum_{j=1}^{n_C}(G^{(S)}_{ij} - G^{(G)}_{ij})^2\\tag{2} $$\n",
    "\n",
    "where $G^{(S)}$ and $G^{(G)}$ are respectively the Gram matrices of the \"style\" image and the \"generated\" image, computed using the hidden layer activations for a particular hidden layer in the network.  \n"
   ]
  },
  {
   "cell_type": "markdown",
   "metadata": {},
   "source": [
    "**Exercise**: Compute the style cost for a single layer. \n",
    "\n",
    "**Instructions**: The 3 steps to implement this function are:\n",
    "1. Retrieve dimensions from the hidden layer activations a_G: \n",
    "    - To retrieve dimensions from a tensor X, use: `X.get_shape().as_list()`\n",
    "2. Unroll the hidden layer activations a_S and a_G into 2D matrices, as explained in the picture above.\n",
    "    - You may find [Hint1](https://www.tensorflow.org/versions/r1.3/api_docs/python/tf/transpose) and [Hint2](https://www.tensorflow.org/versions/r1.2/api_docs/python/tf/reshape) useful.\n",
    "3. Compute the Style matrix of the images S and G. (Use the function you had previously written.) \n",
    "4. Compute the Style cost:\n",
    "    - You may find [Hint3](https://www.tensorflow.org/api_docs/python/tf/reduce_sum), [Hint4](https://www.tensorflow.org/api_docs/python/tf/square) and [Hint5](https://www.tensorflow.org/api_docs/python/tf/subtract) useful."
   ]
  },
  {
   "cell_type": "code",
   "execution_count": 7,
   "metadata": {},
   "outputs": [],
   "source": [
    "# compute_layer_style_cost\n",
    "\n",
    "def compute_layer_style_cost(a_S, a_G):\n",
    "    \"\"\"\n",
    "    Arguments:\n",
    "    a_S -- tensor of dimension (1, n_H, n_W, n_C), hidden layer activations representing style of the image S \n",
    "    a_G -- tensor of dimension (1, n_H, n_W, n_C), hidden layer activations representing style of the image G\n",
    "    \n",
    "    Returns: \n",
    "    J_style_layer -- tensor representing a scalar value, style cost defined above by equation (2)\n",
    "    \"\"\"\n",
    "    \n",
    "    ### START CODE HERE ###\n",
    "    # Retrieve dimensions from a_G (≈1 line)\n",
    "    m, n_H, n_W, n_C = a_G.get_shape().as_list()\n",
    "    \n",
    "    # Reshape the images to have them of shape (n_C, n_H*n_W) (≈2 lines)\n",
    "    #a_S = tf.reshape(a_S, shape=[n_C, n_H*n_W])\n",
    "    #a_G = tf.reshape(a_G, shape=[n_C, n_H*n_W])\n",
    "    # based on answer by Ram Kumar Koppu \n",
    "    # I think first we need to reshape to [n_H*n_W, n_C] after that use tf.transpose() function to transpose it before calling gram_matrix().\n",
    "    a_S = tf.reshape(a_S, shape=[n_H*n_W, n_C])\n",
    "    a_G = tf.reshape(a_G, shape=[n_H*n_W, n_C])\n",
    "    a_S = tf.transpose(a_S)\n",
    "    a_G = tf.transpose(a_G)\n",
    "    \n",
    "    # Computing gram_matrices for both images S and G (≈2 lines)\n",
    "    GS = gram_matrix(a_S)\n",
    "    GG = gram_matrix(a_G)\n",
    "\n",
    "    # Computing the loss (≈1 line)\n",
    "    #J_style_layer = 1/(4* (n_C*n_H*n_W)**2) *tf.reduce_sum(tf.square(GS-GG))\n",
    "    J_style_layer = tf.reduce_sum(tf.square(tf.subtract(GS,GG))) / (4* (n_C*n_H*n_W)**2)\n",
    "    \n",
    "    ### END CODE HERE ###\n",
    "    \n",
    "    return J_style_layer"
   ]
  },
  {
   "cell_type": "markdown",
   "metadata": {},
   "source": [
    "### 3.2.3 Style Weights\n",
    "\n",
    "So far you have captured the style from only one layer. We'll get better results if we \"merge\" style costs from several different layers. After completing this exercise, feel free to come back and experiment with different weights to see how it changes the generated image $G$. But for now, this is a pretty reasonable default: "
   ]
  },
  {
   "cell_type": "code",
   "execution_count": 8,
   "metadata": {},
   "outputs": [],
   "source": [
    "STYLE_LAYERS = [\n",
    "    ('conv1_1', 0.1), #스타일을 하나에서 뽑지 않고 앞서 20% 등등 나는 좀더 하이레벨 특징을 스타일로 잡고 싶다 하면 뒤쪽 숫자올리고\n",
    "    ('conv2_1', 0.1),\n",
    "    ('conv3_1', 0.3), #가운데걸 세게 줘도 되고  아무튼 가중치 어떻게 되나 보여주면 좋을 것 같음.\n",
    "    ('conv4_1', 0.3),\n",
    "    ('conv5_1', 0.2)] #여기 0.3으로 올리고 합 1맞추고 등등 "
   ]
  },
  {
   "cell_type": "code",
   "execution_count": 9,
   "metadata": {},
   "outputs": [
    {
     "name": "stdout",
     "output_type": "stream",
     "text": [
      "conv1_1 0.1\n",
      "conv2_1 0.1\n",
      "conv3_1 0.3\n",
      "conv4_1 0.3\n",
      "conv5_1 0.2\n"
     ]
    }
   ],
   "source": [
    "for layer_name, coeff in STYLE_LAYERS:\n",
    "    print(layer_name, coeff)"
   ]
  },
  {
   "cell_type": "code",
   "execution_count": 10,
   "metadata": {},
   "outputs": [
    {
     "data": {
      "text/plain": [
       "<tf.Tensor 'Relu_2:0' shape=(1, 150, 200, 128) dtype=float32>"
      ]
     },
     "execution_count": 10,
     "metadata": {},
     "output_type": "execute_result"
    }
   ],
   "source": [
    "model['conv2_1']"
   ]
  },
  {
   "cell_type": "markdown",
   "metadata": {},
   "source": [
    "You can combine the style costs for different layers as follows:\n",
    "\n",
    "$$J_{style}(S,G) = \\sum_{l} \\lambda^{[l]} J^{[l]}_{style}(S,G)$$\n",
    "\n",
    "where the values for $\\lambda^{[l]}$ are given in `STYLE_LAYERS`. \n"
   ]
  },
  {
   "cell_type": "markdown",
   "metadata": {},
   "source": [
    "We've implemented a compute_style_cost(...) function. It simply calls your `compute_layer_style_cost(...)` several times, and weights their results using the values in `STYLE_LAYERS`. Read over it to make sure you understand what it's doing. \n",
    "\n",
    "<!-- \n",
    "2. Loop over (layer_name, coeff) from STYLE_LAYERS:\n",
    "        a. Select the output tensor of the current layer. As an example, to call the tensor from the \"conv1_1\" layer you would do: out = model[\"conv1_1\"]\n",
    "        b. Get the style of the style image from the current layer by running the session on the tensor \"out\"\n",
    "        c. Get a tensor representing the style of the generated image from the current layer. It is just \"out\".\n",
    "        d. Now that you have both styles. Use the function you've implemented above to compute the style_cost for the current layer\n",
    "        e. Add (style_cost x coeff) of the current layer to overall style cost (J_style)\n",
    "3. Return J_style, which should now be the sum of the (style_cost x coeff) for each layer.\n",
    "!--> \n"
   ]
  },
  {
   "cell_type": "code",
   "execution_count": 11,
   "metadata": {},
   "outputs": [],
   "source": [
    "def compute_style_cost(model, STYLE_LAYERS):\n",
    "    \"\"\"\n",
    "    Computes the overall style cost from several chosen layers\n",
    "    \n",
    "    Arguments:\n",
    "    model -- our tensorflow model\n",
    "    STYLE_LAYERS -- A python list containing:\n",
    "                        - the names of the layers we would like to extract style from\n",
    "                        - a coefficient for each of them\n",
    "    \n",
    "    Returns: \n",
    "    J_style -- tensor representing a scalar value, style cost defined above by equation (2)\n",
    "    \"\"\"\n",
    "    \n",
    "    # initialize the overall style cost\n",
    "    J_style = 0\n",
    "\n",
    "    for layer_name, coeff in STYLE_LAYERS:\n",
    "\n",
    "        # Select the output tensor of the currently selected layer\n",
    "        out = model[layer_name]\n",
    "\n",
    "        # Set a_S to be the hidden layer activation from the layer we have selected, by running the session on out\n",
    "        a_S = sess.run(out)\n",
    "\n",
    "        # Set a_G to be the hidden layer activation from same layer. Here, a_G references model[layer_name] \n",
    "        # and isn't evaluated yet. Later in the code, we'll assign the image G as the model input, so that\n",
    "        # when we run the session, this will be the activations drawn from the appropriate layer, with G as input.\n",
    "        a_G = out\n",
    "        \n",
    "        # Compute style_cost for the current layer\n",
    "        J_style_layer = compute_layer_style_cost(a_S, a_G)\n",
    "\n",
    "        # Add coeff * J_style_layer of this layer to overall style cost\n",
    "        J_style += coeff * J_style_layer\n",
    "\n",
    "    return J_style"
   ]
  },
  {
   "cell_type": "markdown",
   "metadata": {},
   "source": [
    "**Note**: In the inner-loop of the for-loop above, `a_G` is a tensor and hasn't been evaluated yet. It will be evaluated and updated at each iteration when we run the TensorFlow graph in model_nn() below.\n",
    "\n",
    "<!-- \n",
    "How do you choose the coefficients for each layer? The deeper layers capture higher-level concepts, and the features in the deeper layers are less localized in the image relative to each other. So if you want the generated image to softly follow the style image, try choosing larger weights for deeper layers and smaller weights for the first layers. In contrast, if you want the generated image to strongly follow the style image, try choosing smaller weights for deeper layers and larger weights for the first layers\n",
    "!-->\n",
    "\n",
    "\n",
    "<font color='blue'>\n",
    "**What you should remember**:\n",
    "- The style of an image can be represented using the Gram matrix of a hidden layer's activations. However, we get even better results combining this representation from multiple different layers. This is in contrast to the content representation, where usually using just a single hidden layer is sufficient.\n",
    "- Minimizing the style cost will cause the image $G$ to follow the style of the image $S$. \n",
    "</font color='blue'>\n",
    "\n"
   ]
  },
  {
   "cell_type": "markdown",
   "metadata": {},
   "source": [
    "### 3.3 - Defining the total cost to optimize"
   ]
  },
  {
   "cell_type": "markdown",
   "metadata": {},
   "source": [
    "Finally, let's create a cost function that minimizes both the style and the content cost. The formula is: \n",
    "\n",
    "$$J(G) = \\alpha J_{content}(C,G) + \\beta J_{style}(S,G)$$\n",
    "\n",
    "**Exercise**: Implement the total cost function which includes both the content cost and the style cost. "
   ]
  },
  {
   "cell_type": "code",
   "execution_count": 12,
   "metadata": {},
   "outputs": [],
   "source": [
    "# GRADED FUNCTION: total_cost\n",
    "\n",
    "def total_cost(J_content, J_style, alpha = 10, beta = 50): #알파 배타 수정가능\n",
    "    \"\"\"\n",
    "    Computes the total cost function\n",
    "    \n",
    "    Arguments:\n",
    "    J_content -- content cost coded above\n",
    "    J_style -- style cost coded above\n",
    "    alpha -- hyperparameter weighting the importance of the content cost\n",
    "    beta -- hyperparameter weighting the importance of the style cost\n",
    "    \n",
    "    Returns:\n",
    "    J -- total cost as defined by the formula above.\n",
    "    \"\"\"\n",
    "    \n",
    "    ### START CODE HERE ### (≈1 line)\n",
    "    J = alpha * J_content + beta * J_style\n",
    "    ### END CODE HERE ###\n",
    "    \n",
    "    return J"
   ]
  },
  {
   "cell_type": "code",
   "execution_count": 13,
   "metadata": {},
   "outputs": [
    {
     "name": "stdout",
     "output_type": "stream",
     "text": [
      "J = 39.71177725990266\n"
     ]
    }
   ],
   "source": [
    "tf.reset_default_graph()\n",
    "\n",
    "with tf.Session() as test:\n",
    "    np.random.seed(3)\n",
    "    J_content = np.random.randn()    \n",
    "    J_style = np.random.randn()\n",
    "    J = total_cost(J_content, J_style)\n",
    "    print(\"J = \" + str(J))"
   ]
  },
  {
   "cell_type": "markdown",
   "metadata": {},
   "source": [
    "**Expected Output**:\n",
    "\n",
    "<table>\n",
    "    <tr>\n",
    "        <td>\n",
    "            **J**\n",
    "        </td>\n",
    "        <td>\n",
    "           35.34667875478276\n",
    "        </td>\n",
    "    </tr>\n",
    "\n",
    "</table>"
   ]
  },
  {
   "cell_type": "markdown",
   "metadata": {},
   "source": [
    "<font color='blue'>\n",
    "**What you should remember**:\n",
    "- The total cost is a linear combination of the content cost $J_{content}(C,G)$ and the style cost $J_{style}(S,G)$\n",
    "- $\\alpha$ and $\\beta$ are hyperparameters that control the relative weighting between content and style"
   ]
  },
  {
   "cell_type": "markdown",
   "metadata": {},
   "source": [
    "## 4 - Solving the optimization problem"
   ]
  },
  {
   "cell_type": "markdown",
   "metadata": {},
   "source": [
    "Finally, let's put everything together to implement Neural Style Transfer!\n",
    "\n",
    "\n",
    "Here's what the program will have to do:\n",
    "<font color='purple'>\n",
    "\n",
    "1. Create an Interactive Session\n",
    "2. Load the content image \n",
    "3. Load the style image\n",
    "4. Randomly initialize the image to be generated \n",
    "5. Load the VGG16 model\n",
    "7. Build the TensorFlow graph:\n",
    "    - Run the content image through the VGG16 model and compute the content cost\n",
    "    - Run the style image through the VGG16 model and compute the style cost\n",
    "    - Compute the total cost\n",
    "    - Define the optimizer and the learning rate\n",
    "8. Initialize the TensorFlow graph and run it for a large number of iterations, updating the generated image at every step.\n",
    "\n",
    "</font>\n",
    "Lets go through the individual steps in detail. "
   ]
  },
  {
   "cell_type": "markdown",
   "metadata": {},
   "source": [
    "You've previously implemented the overall cost $J(G)$. We'll now set up TensorFlow to optimize this with respect to $G$. To do so, your program has to reset the graph and use an \"[Interactive Session](https://www.tensorflow.org/api_docs/python/tf/InteractiveSession)\". Unlike a regular session, the \"Interactive Session\" installs itself as the default session to build a graph.  This allows you to run variables without constantly needing to refer to the session object, which simplifies the code.  \n",
    "\n",
    "Lets start the interactive session."
   ]
  },
  {
   "cell_type": "code",
   "execution_count": 14,
   "metadata": {},
   "outputs": [],
   "source": [
    "# Reset the graph\n",
    "tf.reset_default_graph()\n",
    "\n",
    "# Start interactive session\n",
    "sess = tf.InteractiveSession()"
   ]
  },
  {
   "cell_type": "markdown",
   "metadata": {},
   "source": [
    "Let's load, reshape, and normalize our \"content\" image (the Louvre museum picture):"
   ]
  },
  {
   "cell_type": "markdown",
   "metadata": {},
   "source": [
    "1. Click on \"File -> Open\" in the upper tab of the notebook\n",
    "2. Go to \"/images\" and upload your images (requirement: (WIDTH = 400, HEIGHT = 300)), rename them \"my_content.png\" and \"my_style.png\" for example.\n",
    "3. Change the code in part (3.4) from :"
   ]
  },
  {
   "cell_type": "code",
   "execution_count": 15,
   "metadata": {},
   "outputs": [
    {
     "name": "stdout",
     "output_type": "stream",
     "text": [
      "(1, 300, 400, 3)\n"
     ]
    }
   ],
   "source": [
    "#content_image = scipy.misc.imread(\"images/louvre_small.jpg\") #우리가 찍은 이미지 넣기 cocntent랑 style을 설정해주고\n",
    "#content_image = scipy.misc.imread(\"images/hongik_400x300.jpg\")\n",
    "#content_image = scipy.misc.imread(\"images/20180904_161416.jpg\")\n",
    "#content_image = scipy.misc.imread(\"images/20181031_180136.jpg\")\n",
    "#content_image = scipy.misc.imread(\"images/20181030_175936.jpg\")\n",
    "content_image = scipy.misc.imread(\"images/myimage/contents9.jpg\")\n",
    "\n",
    "\n",
    "content_image = reshape_and_normalize_image(content_image)\n",
    "print(content_image.shape)"
   ]
  },
  {
   "cell_type": "markdown",
   "metadata": {},
   "source": [
    "Let's load, reshape and normalize our \"style\" image (Claude Monet's painting):"
   ]
  },
  {
   "cell_type": "code",
   "execution_count": 16,
   "metadata": {},
   "outputs": [
    {
     "name": "stdout",
     "output_type": "stream",
     "text": [
      "(1, 300, 400, 3)\n"
     ]
    }
   ],
   "source": [
    "#style_image = scipy.misc.imread(\"images/myimage/style1.jpg\") #지금은 모네그림이로 되어있는데 이거 바꿀수 있음\n",
    "style_image = scipy.misc.imread(\"images/starry_400x300.jpg\")\n",
    "style_image = reshape_and_normalize_image(style_image)\n",
    "print(style_image.shape)"
   ]
  },
  {
   "cell_type": "code",
   "execution_count": 17,
   "metadata": {},
   "outputs": [
    {
     "name": "stdout",
     "output_type": "stream",
     "text": [
      "(1, 300, 400, 3)\n"
     ]
    }
   ],
   "source": [
    "generated_image = generate_noise_image(content_image)\n",
    "print(generated_image.shape)"
   ]
  },
  {
   "cell_type": "markdown",
   "metadata": {},
   "source": [
    "Now, we initialize the \"generated\" image as a noisy image created from the content_image. By initializing the pixels of the generated image to be mostly noise but still slightly correlated with the content image, this will help the content of the \"generated\" image more rapidly match the content of the \"content\" image. (Feel free to look in `nst_utils.py` to see the details of `generate_noise_image(...)`; to do so, click \"File-->Open...\" at the upper-left corner of this Jupyter notebook.)"
   ]
  },
  {
   "cell_type": "markdown",
   "metadata": {},
   "source": [
    "Next, as explained in part (2), let's load the VGG16 model."
   ]
  },
  {
   "cell_type": "code",
   "execution_count": 18,
   "metadata": {},
   "outputs": [],
   "source": [
    "model = load_vgg_model(\"pretrained-model/imagenet-vgg-verydeep-19.mat\")"
   ]
  },
  {
   "cell_type": "markdown",
   "metadata": {},
   "source": [
    "To get the program to compute the content cost, we will now assign `a_C` and `a_G` to be the appropriate hidden layer activations. We will use layer `conv4_2` to compute the content cost. The code below does the following:\n",
    "\n",
    "1. Assign the content image to be the input to the VGG model.\n",
    "2. Set a_C to be the tensor giving the hidden layer activation for layer \"conv4_2\".\n",
    "3. Set a_G to be the tensor giving the hidden layer activation for the same layer. \n",
    "4. Compute the content cost using a_C and a_G."
   ]
  },
  {
   "cell_type": "code",
   "execution_count": 19,
   "metadata": {},
   "outputs": [],
   "source": [
    "# Assign the content image to be the input of the VGG model.  \n",
    "sess.run(model['input'].assign(content_image))\n",
    "\n",
    "# Select the output tensor of layer conv4_2\n",
    "out = model['conv4_2']\n",
    "\n",
    "# Set a_C to be the hidden layer activation from the layer we have selected\n",
    "a_C = sess.run(out)\n",
    "\n",
    "# Set a_G to be the hidden layer activation from same layer. Here, a_G references model['conv4_2'] \n",
    "# and isn't evaluated yet. Later in the code, we'll assign the image G as the model input, so that\n",
    "# when we run the session, this will be the activations drawn from the appropriate layer, with G as input.\n",
    "a_G = out\n",
    "\n",
    "# Compute the content cost\n",
    "J_content = compute_content_cost(a_C, a_G)"
   ]
  },
  {
   "cell_type": "markdown",
   "metadata": {},
   "source": [
    "**Note**: At this point, a_G is a tensor and hasn't been evaluated. It will be evaluated and updated at each iteration when we run the Tensorflow graph in model_nn() below."
   ]
  },
  {
   "cell_type": "code",
   "execution_count": 20,
   "metadata": {},
   "outputs": [],
   "source": [
    "# Assign the input of the model to be the \"style\" image \n",
    "sess.run(model[\"input\"].assign(style_image))\n",
    "\n",
    "# Compute the style cost\n",
    "J_style = compute_style_cost(model, STYLE_LAYERS)"
   ]
  },
  {
   "cell_type": "code",
   "execution_count": 21,
   "metadata": {},
   "outputs": [
    {
     "name": "stdout",
     "output_type": "stream",
     "text": [
      "30751.441\n",
      "0.0\n"
     ]
    }
   ],
   "source": [
    "print(sess.run(J_content))\n",
    "print(sess.run(J_style))"
   ]
  },
  {
   "cell_type": "markdown",
   "metadata": {},
   "source": [
    "**Exercise**: Now that you have J_content and J_style, compute the total cost J by calling `total_cost()`. Use `alpha = 10` and `beta = 40`."
   ]
  },
  {
   "cell_type": "code",
   "execution_count": 22,
   "metadata": {},
   "outputs": [],
   "source": [
    "J = total_cost(J_content, J_style, alpha = 10, beta = 40)"
   ]
  },
  {
   "cell_type": "markdown",
   "metadata": {},
   "source": [
    "You'd previously learned how to set up the Adam optimizer in TensorFlow. Lets do that here, using a learning rate of 2.0.  [See reference](https://www.tensorflow.org/api_docs/python/tf/train/AdamOptimizer)"
   ]
  },
  {
   "cell_type": "code",
   "execution_count": 23,
   "metadata": {},
   "outputs": [],
   "source": [
    "# define optimizer (1 line)\n",
    "optimizer = tf.train.AdamOptimizer(2.0)\n",
    "\n",
    "# define train_step (1 line)\n",
    "train_step = optimizer.minimize(J)"
   ]
  },
  {
   "cell_type": "markdown",
   "metadata": {},
   "source": [
    "**Exercise**: Implement the model_nn() function which initializes the variables of the tensorflow graph, assigns the input image (initial generated image) as the input of the VGG16 model and runs the train_step for a large number of steps."
   ]
  },
  {
   "cell_type": "code",
   "execution_count": 24,
   "metadata": {},
   "outputs": [],
   "source": [
    "def model_nn(sess, input_image, num_iterations = 100):\n",
    "    \n",
    "    # Initialize global variables (you need to run the session on the initializer)\n",
    "    ### START CODE HERE ### (1 line)\n",
    "    sess.run(tf.global_variables_initializer())\n",
    "    ### END CODE HERE ###\n",
    "    \n",
    "    # Run the noisy input image (initial generated image) through the model. Use assign().\n",
    "\n",
    "    sess.run(model['input'].assign(input_image))\n",
    "\n",
    "    vcost_tot = []\n",
    "    vcost_contents =[]\n",
    "    vcost_style = []\n",
    "    \n",
    "    for i in range(num_iterations):\n",
    "    \n",
    "        # Run the session on the train_step to minimize the total cost\n",
    "        ### START CODE HERE ### (1 line)\n",
    "        sess.run(train_step)\n",
    "        ### END CODE HERE ###\n",
    "        \n",
    "        # Compute the generated image by running the session on the current model['input']\n",
    "        ### START CODE HERE ### (1 line)\n",
    "        generated_image = sess.run(model['input'])\n",
    "        ### END CODE HERE ###\n",
    "        Jt, Jc, Js = sess.run([J, J_content, J_style]) #코스트 종류가 세가지\n",
    "        vcost_tot.append(Jt)\n",
    "        vcost_contents.append(Jc)\n",
    "        vcost_style.append(Js)\n",
    "\n",
    "        # Print every 20 iteration.\n",
    "        if i%20 == 0: #20번 마다 결과가 출력됨. 이렇게 해줬기에\n",
    "            print(\"Iteration \" + str(i) + \" :\")\n",
    "            print(\"total cost = \" + str(Jt))\n",
    "            print(\"content cost = \" + str(Jc))\n",
    "            print(\"style cost = \" + str(Js))\n",
    "            \n",
    "            # save current generated image in the \"/output\" directory\n",
    "        if i%5 == 0: #5개 마다 저장 되는 거임 매번저장하고 싶으면 이거 주석처리하고 밑에거 탭지우면 됨 근데 매번은 너무 많으니 5개씩\n",
    "            save_image(directory_out+\"/\" + str(i) + \".png\", generated_image)\n",
    "    \n",
    "    # save last generated image\n",
    "    save_image(directory_out+'/generated_image.jpg', generated_image)\n",
    "    \n",
    "    return generated_image, vcost_tot, vcost_contents, vcost_style"
   ]
  },
  {
   "cell_type": "markdown",
   "metadata": {},
   "source": [
    "Run the following cell to generate an artistic image. It should take about 3min on CPU for every 20 iterations but you start observing attractive results after ≈140 iterations. Neural Style Transfer is generally trained using GPUs."
   ]
  },
  {
   "cell_type": "code",
   "execution_count": 25,
   "metadata": {
    "scrolled": true
   },
   "outputs": [
    {
     "name": "stdout",
     "output_type": "stream",
     "text": [
      "Iteration 0 :\n",
      "total cost = 9443800000.0\n",
      "content cost = 9986.143\n",
      "style cost = 236092500.0\n",
      "Iteration 20 :\n",
      "total cost = 1273851500.0\n",
      "content cost = 19505.885\n",
      "style cost = 31841410.0\n",
      "Iteration 40 :\n",
      "total cost = 470726720.0\n",
      "content cost = 20674.6\n",
      "style cost = 11762999.0\n",
      "Iteration 60 :\n",
      "total cost = 264427260.0\n",
      "content cost = 21415.393\n",
      "style cost = 6605327.5\n",
      "Iteration 80 :\n",
      "total cost = 184200100.0\n",
      "content cost = 21914.223\n",
      "style cost = 4599524.0\n",
      "Iteration 100 :\n",
      "total cost = 140855140.0\n",
      "content cost = 22285.309\n",
      "style cost = 3515807.0\n",
      "Iteration 120 :\n",
      "total cost = 112941820.0\n",
      "content cost = 22581.182\n",
      "style cost = 2817900.5\n",
      "Iteration 140 :\n",
      "total cost = 93234056.0\n",
      "content cost = 22819.926\n",
      "style cost = 2325146.5\n",
      "Iteration 160 :\n",
      "total cost = 78656860.0\n",
      "content cost = 23010.441\n",
      "style cost = 1960669.0\n",
      "Iteration 180 :\n",
      "total cost = 67478940.0\n",
      "content cost = 23172.668\n",
      "style cost = 1681180.5\n"
     ]
    }
   ],
   "source": [
    "img_out, vcost_tot, vcost_contents, vcost_style = model_nn(sess, generated_image)"
   ]
  },
  {
   "cell_type": "code",
   "execution_count": 26,
   "metadata": {},
   "outputs": [
    {
     "data": {
      "text/plain": [
       "Text(0.5,1,'vcost_tot')"
      ]
     },
     "execution_count": 26,
     "metadata": {},
     "output_type": "execute_result"
    },
    {
     "data": {
      "image/png": "[encoded data removed]",
      "text/plain": [
       "<Figure size 432x288 with 1 Axes>"
      ]
     },
     "metadata": {
      "needs_background": "light"
     },
     "output_type": "display_data"
    }
   ],
   "source": [
    "plt.plot(vcost_tot)\n",
    "plt.title('vcost_tot')"
   ]
  },
  {
   "cell_type": "code",
   "execution_count": 27,
   "metadata": {},
   "outputs": [
    {
     "data": {
      "text/plain": [
       "Text(0.5,1,'vcost_style')"
      ]
     },
     "execution_count": 27,
     "metadata": {},
     "output_type": "execute_result"
    },
    {
     "data": {
      "image/png": "[encoded data removed]",
      "text/plain": [
       "<Figure size 432x288 with 1 Axes>"
      ]
     },
     "metadata": {
      "needs_background": "light"
     },
     "output_type": "display_data"
    }
   ],
   "source": [
    "plt.plot(vcost_style)\n",
    "plt.title('vcost_style')"
   ]
  },
  {
   "cell_type": "code",
   "execution_count": 28,
   "metadata": {},
   "outputs": [
    {
     "data": {
      "text/plain": [
       "Text(0.5,1,'vcost_contents')"
      ]
     },
     "execution_count": 28,
     "metadata": {},
     "output_type": "execute_result"
    },
    {
     "data": {
      "image/png": "[encoded data removed]",
      "text/plain": [
       "<Figure size 432x288 with 1 Axes>"
      ]
     },
     "metadata": {
      "needs_background": "light"
     },
     "output_type": "display_data"
    }
   ],
   "source": [
    "plt.plot(vcost_contents)\n",
    "plt.title('vcost_contents')"
   ]
  },
  {
   "cell_type": "markdown",
   "metadata": {},
   "source": [
    "**Expected Output**:\n",
    "\n",
    "<table>\n",
    "    <tr>\n",
    "        <td>\n",
    "            **Iteration 0 : **\n",
    "        </td>\n",
    "        <td>\n",
    "           total cost = 5.05035e+09 <br>\n",
    "           content cost = 7877.67 <br>\n",
    "           style cost = 1.26257e+08\n",
    "        </td>\n",
    "    </tr>\n",
    "\n",
    "</table>"
   ]
  },
  {
   "cell_type": "markdown",
   "metadata": {},
   "source": [
    "You're done! After running this, in the upper bar of the notebook click on \"File\" and then \"Open\". Go to the \"/output\" directory to see all the saved images. Open \"generated_image\" to see the generated image! :)"
   ]
  },
  {
   "cell_type": "markdown",
   "metadata": {},
   "source": [
    "## 5 - Conclusion\n",
    "\n",
    "Great job on completing this assignment! You are now able to use Neural Style Transfer to generate artistic images. "
   ]
  },
  {
   "cell_type": "markdown",
   "metadata": {
    "collapsed": true
   },
   "source": [
    "### References:\n",
    "\n",
    "The Neural Style Transfer algorithm was due to Gatys et al. (2015). Harish Narayanan and Github user \"log0\" also have highly readable write-ups from which we drew inspiration. The pre-trained network used in this implementation is a VGG network, which is due to Simonyan and Zisserman (2015). Pre-trained weights were from the work of the MathConvNet team. \n",
    "\n",
    "- Leon A. Gatys, Alexander S. Ecker, Matthias Bethge, (2015). A Neural Algorithm of Artistic Style (https://arxiv.org/abs/1508.06576) \n",
    "- Harish Narayanan, Convolutional neural networks for artistic style transfer. https://harishnarayanan.org/writing/artistic-style-transfer/\n",
    "- Log0, TensorFlow Implementation of \"A Neural Algorithm of Artistic Style\". http://www.chioka.in/tensorflow-implementation-neural-algorithm-of-artistic-style\n",
    "- Karen Simonyan and Andrew Zisserman (2015). Very deep convolutional networks for large-scale image recognition (https://arxiv.org/pdf/1409.1556.pdf)\n",
    "- MatConvNet. http://www.vlfeat.org/matconvnet/pretrained/\n"
   ]
  }
 ],
 "metadata": {
  "coursera": {
   "course_slug": "convolutional-neural-networks",
   "graded_item_id": "owWbQ",
   "launcher_item_id": "lEthw"
  },
  "kernelspec": {
   "display_name": "Python 3",
   "language": "python",
   "name": "python3"
  },
  "language_info": {
   "codemirror_mode": {
    "name": "ipython",
    "version": 3
   },
   "file_extension": ".py",
   "mimetype": "text/x-python",
   "name": "python",
   "nbconvert_exporter": "python",
   "pygments_lexer": "ipython3",
   "version": "3.6.6"
  }
 },
 "nbformat": 4,
 "nbformat_minor": 1
}
